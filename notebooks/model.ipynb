{
 "cells": [
  {
   "cell_type": "code",
   "execution_count": null,
   "id": "f5b088ae",
   "metadata": {},
   "outputs": [],
   "source": [
    "import pandas as pd\n",
    "from sklearn.model_selection import train_test_split\n",
    "from sklearn.preprocessing import StandardScaler\n",
    "from sklearn.linear_model import LogisticRegression\n",
    "from sklearn.ensemble import RandomForestClassifier\n",
    "from sklearn.metrics import classification_report, confusion_matrix, precision_recall_curve, auc\n",
    "\n",
    "# Load your dataset\n",
    "df = pd.read_csv('../data/processed/df_fraud_processed.csv')\n",
    "\n",
    "# Quick look\n",
    "df.head()\n"
   ]
  },
  {
   "cell_type": "code",
   "execution_count": null,
   "id": "ad6603a4",
   "metadata": {},
   "outputs": [],
   "source": [
    "# Replace 'class' with your actual target column name\n",
    "target_col = 'class'\n",
    "\n",
    "# Drop irrelevant columns (adjust as needed)\n",
    "drop_cols = ['user_id', 'signup_time', 'purchase_time', 'device_id', 'ip_address']  # example\n",
    "\n",
    "X = df.drop(columns=drop_cols + [target_col])\n",
    "y = df[target_col]\n",
    "\n",
    "# Optional: fill missing values or do encoding here if needed\n",
    "X = X.fillna(0)  # simple fill for missing values\n"
   ]
  },
  {
   "cell_type": "code",
   "execution_count": null,
   "id": "22f90041",
   "metadata": {},
   "outputs": [],
   "source": [
    "X_train, X_test, y_train, y_test = train_test_split(\n",
    "    X, y, test_size=0.2, random_state=42, stratify=y\n",
    ")\n",
    "\n",
    "# Scale features for Logistic Regression\n",
    "scaler = StandardScaler()\n",
    "X_train_scaled = scaler.fit_transform(X_train)\n",
    "X_test_scaled = scaler.transform(X_test)\n"
   ]
  },
  {
   "cell_type": "code",
   "execution_count": null,
   "id": "62d1e831",
   "metadata": {},
   "outputs": [],
   "source": [
    "lr = LogisticRegression(max_iter=1000, class_weight='balanced', random_state=42)\n",
    "lr.fit(X_train_scaled, y_train)\n"
   ]
  },
  {
   "cell_type": "code",
   "execution_count": null,
   "id": "474809a7",
   "metadata": {},
   "outputs": [],
   "source": [
    "rf = RandomForestClassifier(n_estimators=100, class_weight='balanced', random_state=42)\n",
    "rf.fit(X_train, y_train)\n"
   ]
  },
  {
   "cell_type": "code",
   "execution_count": null,
   "id": "22e955e4",
   "metadata": {},
   "outputs": [],
   "source": [
    "def evaluate_model(model, X_test, y_test, scaled=False):\n",
    "    if scaled:\n",
    "        preds_proba = model.predict_proba(X_test)[:, 1]\n",
    "        preds = model.predict(X_test)\n",
    "    else:\n",
    "        preds_proba = model.predict_proba(X_test)[:, 1]\n",
    "        preds = model.predict(X_test)\n",
    "\n",
    "    print(\"Confusion Matrix:\")\n",
    "    print(confusion_matrix(y_test, preds))\n",
    "    print(\"\\nClassification Report:\")\n",
    "    print(classification_report(y_test, preds))\n",
    "\n",
    "    precision, recall, _ = precision_recall_curve(y_test, preds_proba)\n",
    "    auc_pr = auc(recall, precision)\n",
    "    print(f\"AUC-PR: {auc_pr:.4f}\")\n",
    "\n",
    "print(\"Logistic Regression Performance:\")\n",
    "evaluate_model(lr, X_test_scaled, y_test, scaled=True)\n",
    "\n",
    "print(\"\\nRandom Forest Performance:\")\n",
    "evaluate_model(rf, X_test, y_test, scaled=False)\n"
   ]
  }
 ],
 "metadata": {
  "kernelspec": {
   "display_name": "venv",
   "language": "python",
   "name": "python3"
  },
  "language_info": {
   "codemirror_mode": {
    "name": "ipython",
    "version": 3
   },
   "file_extension": ".py",
   "mimetype": "text/x-python",
   "name": "python",
   "nbconvert_exporter": "python",
   "pygments_lexer": "ipython3",
   "version": "3.12.10"
  }
 },
 "nbformat": 4,
 "nbformat_minor": 5
}
